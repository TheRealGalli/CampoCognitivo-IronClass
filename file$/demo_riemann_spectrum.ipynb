{
 "cells": [
  {
   "cell_type": "markdown",
   "metadata": {},
   "source": [
    "# Demo interattiva: Spettro di Riemann, $\\lambda$ e $\\Delta\\Psi$"
   ]
  },
  {
   "cell_type": "markdown",
   "metadata": {},
   "source": [
    "Questa demo mostra:\n",
    "- Grafico interattivo di $\\Delta\\Psi$ in funzione di $\\lambda$ (autovalore/spettro)\n",
    "- Calcolo di $\\Delta\\Psi$ e confronto con valore atteso\n",
    "- Esportazione dei dati in `.xlsx` come output coerente con i test automatici\n",
    "\n",
    "Modifica i parametri e osserva i risultati in tempo reale!"
   ]
  },
  {
   "cell_type": "code",
   "metadata": {},
   "source": [
    "# Import base\n",
    "import numpy as np\n",
    "import pandas as pd\n",
    "import matplotlib.pyplot as plt\n",
    "from ipywidgets import interact, FloatSlider\n",
    "import os\n",
    "plt.style.use('seaborn-v0_8-darkgrid')"
   ],
   "execution_count": 1,
   "outputs": []
  },
  {
   "cell_type": "code",
   "metadata": {},
   "source": [
    "# Hamiltoniana semplice 2x2 e vettori\n",
    "H = np.array([[2, 0], [0, 3]])\n",
    "psi1 = np.array([1, 0])\n",
    "psi2 = np.array([0, 1])\n",
    "psi_mix = np.array([1, 1]) / np.sqrt(2)\n",
    "\n",
    "def delta_psi(H, psi, lam):\n",
    "    \"\"\"Calcola il funzionale di coerenza ||Hψ - λψ||_2\"\"\"\n",
    "    diff = np.dot(H, psi) - lam * psi\n",
    "    return np.linalg.norm(diff)\n",
    "\n",
    "def lambda_expected(H, psi):\n",
    "    \"\"\"Valore atteso di λ dato ψ\"\"\"\n",
    "    num = np.vdot(psi, np.dot(H, psi))\n",
    "    denom = np.vdot(psi, psi)\n",
    "    return np.real(num / denom)"
   ],
   "execution_count": 2,
   "outputs": []
  },
  {
   "cell_type": "markdown",
   "metadata": {},
   "source": [
    "## 1. Grafico interattivo: $\\Delta\\Psi$ in funzione di $\\lambda$"
   ]
  },
  {
   "cell_type": "code",
   "metadata": {},
   "source": [
    "def plot_delta_psi(psi_choice):\n",
    "    lambdas = np.linspace(1.5, 3.5, 300)\n",
    "    if psi_choice == 'psi1':\n",
    "        psi = psi1\n",
    "        label = r\"$\\psi_1 = [1, 0]$ (autovalore 2)\"\n",
    "    elif psi_choice == 'psi2':\n",
    "        psi = psi2\n",
    "        label = r\"$\\psi_2 = [0, 1]$ (autovalore 3)\"\n",
    "    else:\n",
    "        psi = psi_mix\n",
    "        label = r\"$\\psi_{mix} = [1, 1]/\\sqrt{2}$\"\n",
    "    dps = [delta_psi(H, psi, lam) for lam in lambdas]\n",
    "    plt.figure(figsize=(7, 4))\n",
    "    plt.plot(lambdas, dps, lw=2)\n",
    "    plt.title(f\"$\\\\Delta\\\\Psi$ per {label}\", fontsize=15)\n",
    "    plt.xlabel(r\"$\\lambda$\")\n",
    "    plt.ylabel(r\"$\\Delta\\Psi$\")\n",
    "    plt.grid(True, alpha=0.4)\n",
    "    plt.show()\n",
    "\n",
    "interact(plot_delta_psi, psi_choice=['psi1', 'psi2', 'psi_mix']);"
   ],
   "execution_count": 3,
   "outputs": []
  },
  {
   "cell_type": "markdown",
   "metadata": {},
   "source": [
    "## 2. Calcolo diretto $\\Delta\\Psi$ e confronto con valore atteso"
   ]
  },
  {
   "cell_type": "code",
   "metadata": {},
   "source": [
    "def demo_delta_psi(psi_type, lambdaval):\n",
    "    if psi_type == 'psi1':\n",
    "        psi = psi1\n",
    "    elif psi_type == 'psi2':\n",
    "        psi = psi2\n",
    "    else:\n",
    "        psi = psi_mix\n",
    "    dpsi = delta_psi(H, psi, lambdaval)\n",
    "    lam_exp = lambda_expected(H, psi)\n",
    "    print(f\"λ scelto: {lambdaval:.3f}\")\n",
    "    print(f\"λ atteso (valore teorico): {lam_exp:.3f}\")\n",
    "    print(f\"ΔΨ: {dpsi:.4e}\")\n",
    "    if np.isclose(dpsi, 0, atol=1e-8):\n",
    "        print(\"\\u2705 Coerenza perfetta: λ è autovalore di H per ψ.\")\n",
    "    else:\n",
    "        print(\"\\u26A0\\ufe0f Coerenza non nulla: λ NON è autovalore per ψ.\")\n",
    "\n",
    "interact(demo_delta_psi, \n",
    "         psi_type=['psi1', 'psi2', 'psi_mix'],\n",
    "         lambdaval=FloatSlider(value=2, min=1.5, max=3.5, step=0.01));"
   ],
   "execution_count": 4,
   "outputs": []
  },
  {
   "cell_type": "markdown",
   "metadata": {},
   "source": [
    "## 3. Esportazione risultati $\\Delta\\Psi$, $\\lambda$ in `.xlsx`"
   ]
  },
  {
   "cell_type": "code",
   "metadata": {},
   "source": [
    "# Simulazione export coerente .xlsx\n",
    "lambdas = np.linspace(1.5, 3.5, 101)\n",
    "results = []\n",
    "for psi_label, psi in zip(['psi1', 'psi2', 'psi_mix'], [psi1, psi2, psi_mix]):\n",
    "    dps = [delta_psi(H, psi, lam) for lam in lambdas]\n",
    "    for lam, val in zip(lambdas, dps):\n",
    "        results.append({'psi': psi_label, 'lambda': lam, 'DeltaPsi': val})\n",
    "df = pd.DataFrame(results)\n",
    "os.makedirs('output', exist_ok=True)\n",
    "df.to_excel('output/demo_delta_psi_export.xlsx', index=False)\n",
    "print(\"Dati esportati in output/demo_delta_psi_export.xlsx\")"
   ],
   "execution_count": 5,
   "outputs": [
    {
     "name": "stdout",
     "output_type": "stream",
     "text": [
      "Dati esportati in output/demo_delta_psi_export.xlsx\n"
     ]
    }
   ]
  }
 ],
 "metadata": {
  "kernelspec": {
   "display_name": "Python 3",
   "language": "python",
   "name": "python3"
  },
  "language_info": {
   "name": "python",
   "version": "3.11"
  }
 },
 "nbformat": 4,
 "nbformat_minor": 5
}